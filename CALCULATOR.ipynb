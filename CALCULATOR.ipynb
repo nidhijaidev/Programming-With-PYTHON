{
  "cells": [
    {
      "cell_type": "code",
      "execution_count": null,
      "metadata": {
        "colab": {
          "base_uri": "https://localhost:8080/"
        },
        "id": "ETba0jKZc4dI",
        "outputId": "1f6a795b-e7f2-4d2e-8d9b-c8221c532403"
      },
      "outputs": [
        {
          "output_type": "stream",
          "name": "stdout",
          "text": [
            "Enter A :\n"
          ]
        }
      ],
      "source": [
        "print(\"Enter A :\")\n",
        "a = int(input())\n",
        "print(\"\\nEnter B :\")\n",
        "b = int(input())\n",
        "print(\"\\nChoose Options To Perform : \")\n",
        "print(\"\\n1.Addition\")\n",
        "print(\"\\n2.Subtraction\")\n",
        "print(\"\\n3.Multiplication\")\n",
        "print(\"\\n4.Division\")\n",
        "print(\"\\n\\nEnter Your Choice :\")\n",
        "choice = int(input())\n",
        "if choice==1 :\n",
        "\tprint(\"\\nAddition of A + B is : \",a+b)\n",
        "elif choice==2 :\n",
        "\tprint(\"\\nSubtraction of A - B is : \",a-b)\n",
        "elif choice==3 :\n",
        "\tprint(\"\\nMultiplication of A * B is : \",a*b)\n",
        "elif choice==4 :\n",
        "\tif(b == 0) :\n",
        "\t\tprint(\"b cannot be 0 for Division operation\")\n",
        "\telse :\n",
        "\t\tprint(\"\\nDivision of A / B is : \",a/b)\n",
        "else :\n",
        "\tprint(\"Invalid Choice\")\n",
        "\n",
        "\n",
        "\n"
      ]
    }
  ],
  "metadata": {
    "colab": {
      "provenance": []
    },
    "kernelspec": {
      "display_name": "Python 3",
      "name": "python3"
    },
    "language_info": {
      "name": "python"
    }
  },
  "nbformat": 4,
  "nbformat_minor": 0
}