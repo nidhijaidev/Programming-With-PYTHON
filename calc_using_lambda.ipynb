{
  "nbformat": 4,
  "nbformat_minor": 0,
  "metadata": {
    "colab": {
      "provenance": []
    },
    "kernelspec": {
      "name": "python3",
      "display_name": "Python 3"
    },
    "language_info": {
      "name": "python"
    }
  },
  "cells": [
    {
      "cell_type": "code",
      "execution_count": 25,
      "metadata": {
        "colab": {
          "base_uri": "https://localhost:8080/"
        },
        "id": "_sbVIjLYRjXK",
        "outputId": "6bdd674e-216f-4c47-df0e-816f130f4b6b"
      },
      "outputs": [
        {
          "output_type": "stream",
          "name": "stdout",
          "text": [
            "Enter the first number: 1\n",
            "Enter the second number: 0\n",
            "1. add\n",
            "2. subtraction\n",
            "3. multiply\n",
            "4. divide\n",
            "Enter your choice: 6\n",
            "Invalid input\n"
          ]
        }
      ],
      "source": [
        "a = int(input(\"Enter the first number: \"))\n",
        "b = int(input(\"Enter the second number: \"))\n",
        "\n",
        "add = lambda a,b : a+b\n",
        "subtract = lambda a,b : a-b\n",
        "multiply = lambda a,b : a*b\n",
        "divide = lambda a,b : a/b\n",
        "\n",
        "while True:\n",
        "    print(\"1. add\")\n",
        "    print(\"2. subtraction\")\n",
        "    print(\"3. multiply\")\n",
        "    print(\"4. divide\")\n",
        "    choice=int(input(\"Enter your choice: \"))\n",
        "    if choice==1:\n",
        "        print(a+b)\n",
        "    elif choice==2:\n",
        "        print(a-b)\n",
        "    elif choice==3:\n",
        "        print(a*b)\n",
        "    elif choice==4:\n",
        "        if b==0:\n",
        "            print(\"zero cannot be divided\")\n",
        "            break\n",
        "        else:\n",
        "         print(a/b)\n",
        "    else:\n",
        "      print(\"Invalid input\")\n",
        "      break\n",
        "\n"
      ]
    }
  ]
}